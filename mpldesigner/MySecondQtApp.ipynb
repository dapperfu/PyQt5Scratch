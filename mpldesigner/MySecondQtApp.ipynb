{
 "cells": [
  {
   "cell_type": "code",
   "execution_count": 1,
   "metadata": {
    "collapsed": true
   },
   "outputs": [],
   "source": [
    "from PyQt5.uic import loadUiType\n",
    "\n",
    "from matplotlib.figure import Figure\n",
    "from matplotlib.backends.backend_qt5agg import (\n",
    "    FigureCanvasQTAgg as FigureCanvas,\n",
    "    NavigationToolbar2QT as NavigationToolbar)"
   ]
  },
  {
   "cell_type": "code",
   "execution_count": 2,
   "metadata": {
    "collapsed": true
   },
   "outputs": [],
   "source": [
    "from control.matlab import *"
   ]
  },
  {
   "cell_type": "code",
   "execution_count": 3,
   "metadata": {
    "collapsed": false
   },
   "outputs": [],
   "source": [
    "s=tf([1,0],[1])"
   ]
  },
  {
   "cell_type": "code",
   "execution_count": 4,
   "metadata": {
    "collapsed": true
   },
   "outputs": [],
   "source": [
    "a=3\n",
    "b=2\n",
    "c=1\n",
    "Plant = a/(b*s+c)\n",
    "\n",
    "t=0\n",
    "t_final = 100\n",
    "dt = 0.01\n",
    "T = np.arange(t, t_final+dt, dt)"
   ]
  },
  {
   "cell_type": "code",
   "execution_count": 5,
   "metadata": {
    "collapsed": true
   },
   "outputs": [],
   "source": [
    "X0 = 0.0"
   ]
  },
  {
   "cell_type": "code",
   "execution_count": 6,
   "metadata": {
    "collapsed": false
   },
   "outputs": [],
   "source": [
    "yout, T = step(Plant, T=T, X0=X0)"
   ]
  },
  {
   "cell_type": "code",
   "execution_count": 2,
   "metadata": {
    "collapsed": true
   },
   "outputs": [],
   "source": [
    "Ui_MainWindow, QMainWindow = loadUiType('window.ui')\n",
    "        \n",
    "class MainWindow(QMainWindow, Ui_MainWindow):\n",
    "    def __init__(self, ):\n",
    "        super(self.__class__, self).__init__()\n",
    "        self.setupUi(self)\n",
    "        self.fig_dict = {}\n",
    "\n",
    "        self.mplfigs.itemClicked.connect(self.changefig)\n",
    "\n",
    "        fig = Figure()\n",
    "        self.addmpl(fig)\n",
    "\n",
    "    def changefig(self, item):\n",
    "        text = item.text()\n",
    "        print(\"item.text: \"+text)\n",
    "        self.rmmpl()\n",
    "        self.addmpl(self.fig_dict[text])\n",
    "\n",
    "    def addfig(self, name, fig):\n",
    "        self.fig_dict[name] = fig\n",
    "        self.mplfigs.addItem(name)\n",
    "\n",
    "    def addmpl(self, fig):\n",
    "        self.canvas = FigureCanvas(fig)\n",
    "        self.mplvl.addWidget(self.canvas)\n",
    "        self.canvas.draw()\n",
    "        self.toolbar = NavigationToolbar(self.canvas, \n",
    "                self.mplwindow, coordinates=True)\n",
    "        self.mplvl.addWidget(self.toolbar)\n",
    "# This is the alternate toolbar placement. Susbstitute the three lines above\n",
    "# for these lines to see the different look.\n",
    "#        self.toolbar = NavigationToolbar(self.canvas,\n",
    "#                self, coordinates=True)\n",
    "#        self.addToolBar(self.toolbar)\n",
    "\n",
    "    def rmmpl(self,):\n",
    "        self.mplvl.removeWidget(self.canvas)\n",
    "        self.canvas.close()\n",
    "        self.mplvl.removeWidget(self.toolbar)\n",
    "        self.toolbar.close()"
   ]
  },
  {
   "cell_type": "code",
   "execution_count": null,
   "metadata": {
    "collapsed": false
   },
   "outputs": [],
   "source": [
    "if __name__ == '__main__':\n",
    "    import sys\n",
    "    from PyQt5 import QtWidgets\n",
    "    from pylab import *\n",
    "    from control.matlab import *\n",
    "    \n",
    "    yout, T = step(Plant, T=T, X0=X0)\n",
    "    fig1 = Figure()\n",
    "    ax1f1 = fig1.add_subplot(111)\n",
    "    ax1f1.plot(T,yout)\n",
    "\n",
    "    fig2 = Figure()\n",
    "    ax1f2 = fig2.add_subplot(121)\n",
    "    ax1f2.plot(np.random.rand(5))\n",
    "    ax2f2 = fig2.add_subplot(122)\n",
    "    ax2f2.plot(np.random.rand(10))\n",
    "\n",
    "    fig3 = Figure()\n",
    "    ax1f3 = fig3.add_subplot(111)\n",
    "    ax1f3.pcolormesh(np.random.rand(20,20))\n",
    "\n",
    "    app = QtWidgets.QApplication(sys.argv)  # A new instance of QApplication\n",
    "    main = MainWindow() \n",
    "    main.addfig('One plot', fig1)\n",
    "    main.addfig('Two plots', fig2)\n",
    "    main.addfig('Pcolormesh', fig3)\n",
    "    main.show()\n",
    "    sys.exit(app.exec_())"
   ]
  }
 ],
 "metadata": {
  "kernelspec": {
   "display_name": "Python 3",
   "language": "python",
   "name": "python3"
  },
  "language_info": {
   "codemirror_mode": {
    "name": "ipython",
    "version": 3
   },
   "file_extension": ".py",
   "mimetype": "text/x-python",
   "name": "python",
   "nbconvert_exporter": "python",
   "pygments_lexer": "ipython3",
   "version": "3.5.2"
  }
 },
 "nbformat": 4,
 "nbformat_minor": 1
}
