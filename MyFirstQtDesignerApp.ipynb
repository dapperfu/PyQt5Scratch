{
 "cells": [
  {
   "cell_type": "code",
   "execution_count": 1,
   "metadata": {
    "collapsed": true
   },
   "outputs": [],
   "source": [
    "from mainwindow_test import Ui_MainWindow"
   ]
  },
  {
   "cell_type": "code",
   "execution_count": 2,
   "metadata": {
    "collapsed": true
   },
   "outputs": [],
   "source": [
    "from PyQt5.QtWidgets import QWidget, QMessageBox, QApplication"
   ]
  },
  {
   "cell_type": "code",
   "execution_count": 7,
   "metadata": {
    "collapsed": false
   },
   "outputs": [],
   "source": [
    "from PyQt5 import QtCore, QtGui, QtWidgets\n",
    "\n",
    "class MainWindow(QtWidgets.QMainWindow, Ui_MainWindow):\n",
    "    def __init__(self):\n",
    "        # Explaining super is out of the scope of this article\n",
    "        # So please google it if you're not familar with it\n",
    "        # Simple reason why we use it here is that it allows us to\n",
    "        # access variables, methods etc in the design.py file\n",
    "        super(self.__class__, self).__init__()\n",
    "        self.setupUi(self)  # This is defined in design.py file automatically"
   ]
  },
  {
   "cell_type": "code",
   "execution_count": null,
   "metadata": {
    "collapsed": true
   },
   "outputs": [],
   "source": [
    "QApplication"
   ]
  },
  {
   "cell_type": "code",
   "execution_count": null,
   "metadata": {
    "collapsed": true
   },
   "outputs": [],
   "source": [
    "def main():\n",
    "    app = QtGui.QApplication(sys.argv)  # A new instance of QApplication\n",
    "    form = ExampleApp()  # We set the form to be our ExampleApp (design)\n",
    "    form.show()  # Show the form\n",
    "    app.exec_()  # and execute the app"
   ]
  }
 ],
 "metadata": {
  "kernelspec": {
   "display_name": "Python 3",
   "language": "python",
   "name": "python3"
  },
  "language_info": {
   "codemirror_mode": {
    "name": "ipython",
    "version": 3
   },
   "file_extension": ".py",
   "mimetype": "text/x-python",
   "name": "python",
   "nbconvert_exporter": "python",
   "pygments_lexer": "ipython3",
   "version": "3.5.2"
  }
 },
 "nbformat": 4,
 "nbformat_minor": 1
}
