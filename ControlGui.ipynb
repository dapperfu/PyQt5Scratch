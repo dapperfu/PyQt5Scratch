{
 "cells": [
  {
   "cell_type": "code",
   "execution_count": 1,
   "metadata": {
    "collapsed": true
   },
   "outputs": [],
   "source": [
    "from PyQt5.uic import loadUiType\n",
    "\n",
    "Ui_MainWindow, QMainWindow = loadUiType('control_gui.ui')"
   ]
  },
  {
   "cell_type": "code",
   "execution_count": 2,
   "metadata": {
    "collapsed": true
   },
   "outputs": [],
   "source": [
    "class MainWindow(QMainWindow, Ui_MainWindow):  \n",
    "#class MainWindow(QtWidgets.QMainWindow, Ui_MainWindow):\n",
    "    def __init__(self):\n",
    "        # Explaining super is out of the scope of this article\n",
    "        # So please google it if you're not familar with it\n",
    "        # Simple reason why we use it here is that it allows us to\n",
    "        # access variables, methods etc in the design.py file\n",
    "        super(self.__class__, self).__init__()\n",
    "        self.setupUi(self)  # This is defined in design.py file automatically"
   ]
  },
  {
   "cell_type": "code",
   "execution_count": null,
   "metadata": {
    "collapsed": true
   },
   "outputs": [],
   "source": [
    "main = MainWindow()"
   ]
  }
 ],
 "metadata": {
  "kernelspec": {
   "display_name": "Python 3",
   "language": "python",
   "name": "python3"
  },
  "language_info": {
   "codemirror_mode": {
    "name": "ipython",
    "version": 3
   },
   "file_extension": ".py",
   "mimetype": "text/x-python",
   "name": "python",
   "nbconvert_exporter": "python",
   "pygments_lexer": "ipython3",
   "version": "3.5.2"
  }
 },
 "nbformat": 4,
 "nbformat_minor": 1
}
